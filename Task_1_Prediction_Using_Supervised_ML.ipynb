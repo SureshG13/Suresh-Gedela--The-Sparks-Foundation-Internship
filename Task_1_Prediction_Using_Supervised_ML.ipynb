{
 "cells": [
  {
   "cell_type": "markdown",
   "id": "58a69e0a",
   "metadata": {},
   "source": [
    "# The Sparks Foundation GRIP Internship"
   ]
  },
  {
   "cell_type": "markdown",
   "id": "5c857496",
   "metadata": {},
   "source": [
    "## Data Science & Business Analytics Intern"
   ]
  },
  {
   "cell_type": "markdown",
   "id": "37600424",
   "metadata": {},
   "source": [
    "### Task 1 - Prediction Using Supervised ML\n",
    "    Predict the percentage of an student based on the no. of study hours.\n",
    "    What will be predicted score if a student studies for 9.25 hrs/ day?"
   ]
  },
  {
   "cell_type": "markdown",
   "id": "f9360d70",
   "metadata": {},
   "source": [
    "This is a simple linear regression task as it involves just 2 variables, Hours and Scores"
   ]
  },
  {
   "cell_type": "markdown",
   "id": "8c9f32ef",
   "metadata": {},
   "source": [
    "### Author - Suresh Gedela"
   ]
  },
  {
   "cell_type": "markdown",
   "id": "83de9d95",
   "metadata": {},
   "source": [
    "### 1. Read the Dataset"
   ]
  },
  {
   "cell_type": "code",
   "execution_count": 1,
   "id": "a0cf8561",
   "metadata": {},
   "outputs": [],
   "source": [
    "import pandas as pd\n",
    "import numpy as np"
   ]
  },
  {
   "cell_type": "code",
   "execution_count": 2,
   "id": "e651370b",
   "metadata": {},
   "outputs": [
    {
     "data": {
      "text/html": [
       "<div>\n",
       "<style scoped>\n",
       "    .dataframe tbody tr th:only-of-type {\n",
       "        vertical-align: middle;\n",
       "    }\n",
       "\n",
       "    .dataframe tbody tr th {\n",
       "        vertical-align: top;\n",
       "    }\n",
       "\n",
       "    .dataframe thead th {\n",
       "        text-align: right;\n",
       "    }\n",
       "</style>\n",
       "<table border=\"1\" class=\"dataframe\">\n",
       "  <thead>\n",
       "    <tr style=\"text-align: right;\">\n",
       "      <th></th>\n",
       "      <th>Hours</th>\n",
       "      <th>Scores</th>\n",
       "    </tr>\n",
       "  </thead>\n",
       "  <tbody>\n",
       "    <tr>\n",
       "      <th>0</th>\n",
       "      <td>2.5</td>\n",
       "      <td>21</td>\n",
       "    </tr>\n",
       "    <tr>\n",
       "      <th>1</th>\n",
       "      <td>5.1</td>\n",
       "      <td>47</td>\n",
       "    </tr>\n",
       "    <tr>\n",
       "      <th>2</th>\n",
       "      <td>3.2</td>\n",
       "      <td>27</td>\n",
       "    </tr>\n",
       "    <tr>\n",
       "      <th>3</th>\n",
       "      <td>8.5</td>\n",
       "      <td>75</td>\n",
       "    </tr>\n",
       "    <tr>\n",
       "      <th>4</th>\n",
       "      <td>3.5</td>\n",
       "      <td>30</td>\n",
       "    </tr>\n",
       "    <tr>\n",
       "      <th>5</th>\n",
       "      <td>1.5</td>\n",
       "      <td>20</td>\n",
       "    </tr>\n",
       "    <tr>\n",
       "      <th>6</th>\n",
       "      <td>9.2</td>\n",
       "      <td>88</td>\n",
       "    </tr>\n",
       "    <tr>\n",
       "      <th>7</th>\n",
       "      <td>5.5</td>\n",
       "      <td>60</td>\n",
       "    </tr>\n",
       "    <tr>\n",
       "      <th>8</th>\n",
       "      <td>8.3</td>\n",
       "      <td>81</td>\n",
       "    </tr>\n",
       "    <tr>\n",
       "      <th>9</th>\n",
       "      <td>2.7</td>\n",
       "      <td>25</td>\n",
       "    </tr>\n",
       "    <tr>\n",
       "      <th>10</th>\n",
       "      <td>7.7</td>\n",
       "      <td>85</td>\n",
       "    </tr>\n",
       "    <tr>\n",
       "      <th>11</th>\n",
       "      <td>5.9</td>\n",
       "      <td>62</td>\n",
       "    </tr>\n",
       "    <tr>\n",
       "      <th>12</th>\n",
       "      <td>4.5</td>\n",
       "      <td>41</td>\n",
       "    </tr>\n",
       "    <tr>\n",
       "      <th>13</th>\n",
       "      <td>3.3</td>\n",
       "      <td>42</td>\n",
       "    </tr>\n",
       "    <tr>\n",
       "      <th>14</th>\n",
       "      <td>1.1</td>\n",
       "      <td>17</td>\n",
       "    </tr>\n",
       "    <tr>\n",
       "      <th>15</th>\n",
       "      <td>8.9</td>\n",
       "      <td>95</td>\n",
       "    </tr>\n",
       "    <tr>\n",
       "      <th>16</th>\n",
       "      <td>2.5</td>\n",
       "      <td>30</td>\n",
       "    </tr>\n",
       "    <tr>\n",
       "      <th>17</th>\n",
       "      <td>1.9</td>\n",
       "      <td>24</td>\n",
       "    </tr>\n",
       "    <tr>\n",
       "      <th>18</th>\n",
       "      <td>6.1</td>\n",
       "      <td>67</td>\n",
       "    </tr>\n",
       "    <tr>\n",
       "      <th>19</th>\n",
       "      <td>7.4</td>\n",
       "      <td>69</td>\n",
       "    </tr>\n",
       "    <tr>\n",
       "      <th>20</th>\n",
       "      <td>2.7</td>\n",
       "      <td>30</td>\n",
       "    </tr>\n",
       "    <tr>\n",
       "      <th>21</th>\n",
       "      <td>4.8</td>\n",
       "      <td>54</td>\n",
       "    </tr>\n",
       "    <tr>\n",
       "      <th>22</th>\n",
       "      <td>3.8</td>\n",
       "      <td>35</td>\n",
       "    </tr>\n",
       "    <tr>\n",
       "      <th>23</th>\n",
       "      <td>6.9</td>\n",
       "      <td>76</td>\n",
       "    </tr>\n",
       "    <tr>\n",
       "      <th>24</th>\n",
       "      <td>7.8</td>\n",
       "      <td>86</td>\n",
       "    </tr>\n",
       "  </tbody>\n",
       "</table>\n",
       "</div>"
      ],
      "text/plain": [
       "    Hours  Scores\n",
       "0     2.5      21\n",
       "1     5.1      47\n",
       "2     3.2      27\n",
       "3     8.5      75\n",
       "4     3.5      30\n",
       "5     1.5      20\n",
       "6     9.2      88\n",
       "7     5.5      60\n",
       "8     8.3      81\n",
       "9     2.7      25\n",
       "10    7.7      85\n",
       "11    5.9      62\n",
       "12    4.5      41\n",
       "13    3.3      42\n",
       "14    1.1      17\n",
       "15    8.9      95\n",
       "16    2.5      30\n",
       "17    1.9      24\n",
       "18    6.1      67\n",
       "19    7.4      69\n",
       "20    2.7      30\n",
       "21    4.8      54\n",
       "22    3.8      35\n",
       "23    6.9      76\n",
       "24    7.8      86"
      ]
     },
     "execution_count": 2,
     "metadata": {},
     "output_type": "execute_result"
    }
   ],
   "source": [
    "student_data=pd.read_csv(r'https://raw.githubusercontent.com/AdiPersonalWorks/Random/master/student_scores%20-%20student_scores.csv')\n",
    "student_data"
   ]
  },
  {
   "cell_type": "code",
   "execution_count": 3,
   "id": "5a61c15a",
   "metadata": {},
   "outputs": [
    {
     "data": {
      "text/html": [
       "<div>\n",
       "<style scoped>\n",
       "    .dataframe tbody tr th:only-of-type {\n",
       "        vertical-align: middle;\n",
       "    }\n",
       "\n",
       "    .dataframe tbody tr th {\n",
       "        vertical-align: top;\n",
       "    }\n",
       "\n",
       "    .dataframe thead th {\n",
       "        text-align: right;\n",
       "    }\n",
       "</style>\n",
       "<table border=\"1\" class=\"dataframe\">\n",
       "  <thead>\n",
       "    <tr style=\"text-align: right;\">\n",
       "      <th></th>\n",
       "      <th>Hours</th>\n",
       "      <th>Scores</th>\n",
       "    </tr>\n",
       "  </thead>\n",
       "  <tbody>\n",
       "    <tr>\n",
       "      <th>count</th>\n",
       "      <td>25.000000</td>\n",
       "      <td>25.000000</td>\n",
       "    </tr>\n",
       "    <tr>\n",
       "      <th>mean</th>\n",
       "      <td>5.012000</td>\n",
       "      <td>51.480000</td>\n",
       "    </tr>\n",
       "    <tr>\n",
       "      <th>std</th>\n",
       "      <td>2.525094</td>\n",
       "      <td>25.286887</td>\n",
       "    </tr>\n",
       "    <tr>\n",
       "      <th>min</th>\n",
       "      <td>1.100000</td>\n",
       "      <td>17.000000</td>\n",
       "    </tr>\n",
       "    <tr>\n",
       "      <th>25%</th>\n",
       "      <td>2.700000</td>\n",
       "      <td>30.000000</td>\n",
       "    </tr>\n",
       "    <tr>\n",
       "      <th>50%</th>\n",
       "      <td>4.800000</td>\n",
       "      <td>47.000000</td>\n",
       "    </tr>\n",
       "    <tr>\n",
       "      <th>75%</th>\n",
       "      <td>7.400000</td>\n",
       "      <td>75.000000</td>\n",
       "    </tr>\n",
       "    <tr>\n",
       "      <th>max</th>\n",
       "      <td>9.200000</td>\n",
       "      <td>95.000000</td>\n",
       "    </tr>\n",
       "  </tbody>\n",
       "</table>\n",
       "</div>"
      ],
      "text/plain": [
       "           Hours     Scores\n",
       "count  25.000000  25.000000\n",
       "mean    5.012000  51.480000\n",
       "std     2.525094  25.286887\n",
       "min     1.100000  17.000000\n",
       "25%     2.700000  30.000000\n",
       "50%     4.800000  47.000000\n",
       "75%     7.400000  75.000000\n",
       "max     9.200000  95.000000"
      ]
     },
     "execution_count": 3,
     "metadata": {},
     "output_type": "execute_result"
    }
   ],
   "source": [
    "student_data.describe()"
   ]
  },
  {
   "cell_type": "code",
   "execution_count": 4,
   "id": "b20daff0",
   "metadata": {},
   "outputs": [
    {
     "data": {
      "text/plain": [
       "Hours     0\n",
       "Scores    0\n",
       "dtype: int64"
      ]
     },
     "execution_count": 4,
     "metadata": {},
     "output_type": "execute_result"
    }
   ],
   "source": [
    "# Checking for any Null values\n",
    "student_data.isnull().sum()"
   ]
  },
  {
   "cell_type": "markdown",
   "id": "c7c529f6",
   "metadata": {},
   "source": [
    "        No Null values in the dataset. That's good!"
   ]
  },
  {
   "cell_type": "markdown",
   "id": "91ac761a",
   "metadata": {},
   "source": [
    "### 2. Visualize the Dataset"
   ]
  },
  {
   "cell_type": "code",
   "execution_count": 6,
   "id": "2bd1f049",
   "metadata": {},
   "outputs": [],
   "source": [
    "import matplotlib.pyplot as plt\n",
    "import seaborn as sns"
   ]
  },
  {
   "cell_type": "code",
   "execution_count": 7,
   "id": "d4944124",
   "metadata": {},
   "outputs": [
    {
     "data": {
      "image/png": "[encoded data removed]",
      "text/plain": [
       "<Figure size 432x288 with 1 Axes>"
      ]
     },
     "metadata": {},
     "output_type": "display_data"
    }
   ],
   "source": [
    "sns.set_style('darkgrid')\n",
    "sns.scatterplot(x= student_data['Hours'], y= student_data['Scores'], color='#1a4301', label='Student score') # To draw scatterplot\n",
    "plt.title('Scatterplot: Student Scores Vs Study Hours', pad='10.0', size=18)\n",
    "plt.ylabel('Score Percentage', size=12)\n",
    "plt.xlabel('No. of Hours Studied', size=12)\n",
    "plt.legend(bbox_to_anchor =(1.50, 1.02), ncol = 2)\n",
    "plt.show()"
   ]
  },
  {
   "cell_type": "markdown",
   "id": "87abf03e",
   "metadata": {},
   "source": [
    "We can observe in the above scatterplot that there seems to be some degree of positive correlation between the 2 variables. Let's confirm this."
   ]
  },
  {
   "cell_type": "code",
   "execution_count": 8,
   "id": "2f3e4afe",
   "metadata": {},
   "outputs": [
    {
     "data": {
      "image/png": "[encoded data removed]",
      "text/plain": [
       "<Figure size 432x288 with 1 Axes>"
      ]
     },
     "metadata": {},
     "output_type": "display_data"
    }
   ],
   "source": [
    "sns.regplot(x= student_data['Hours'], y= student_data['Scores'], color='#1a4301', label='Student score') # To draw regression plot\n",
    "plt.title('Regression Plot: Student Scores Vs Study Hours', pad='10.0', size=18)\n",
    "plt.ylabel('Score Percentage', size=12)\n",
    "plt.xlabel('No. of Hours Studied', size=12)\n",
    "plt.legend(bbox_to_anchor =(1.50, 1.02), ncol = 2)\n",
    "plt.show()"
   ]
  },
  {
   "cell_type": "markdown",
   "id": "91824f57",
   "metadata": {},
   "source": [
    "The regression plot confirms that positive correlation exists between the 2 variables. Now, let's find how much they are correlated."
   ]
  },
  {
   "cell_type": "code",
   "execution_count": 9,
   "id": "3e46a2af",
   "metadata": {},
   "outputs": [
    {
     "data": {
      "text/html": [
       "<div>\n",
       "<style scoped>\n",
       "    .dataframe tbody tr th:only-of-type {\n",
       "        vertical-align: middle;\n",
       "    }\n",
       "\n",
       "    .dataframe tbody tr th {\n",
       "        vertical-align: top;\n",
       "    }\n",
       "\n",
       "    .dataframe thead th {\n",
       "        text-align: right;\n",
       "    }\n",
       "</style>\n",
       "<table border=\"1\" class=\"dataframe\">\n",
       "  <thead>\n",
       "    <tr style=\"text-align: right;\">\n",
       "      <th></th>\n",
       "      <th>Hours</th>\n",
       "      <th>Scores</th>\n",
       "    </tr>\n",
       "  </thead>\n",
       "  <tbody>\n",
       "    <tr>\n",
       "      <th>Hours</th>\n",
       "      <td>1.000000</td>\n",
       "      <td>0.976191</td>\n",
       "    </tr>\n",
       "    <tr>\n",
       "      <th>Scores</th>\n",
       "      <td>0.976191</td>\n",
       "      <td>1.000000</td>\n",
       "    </tr>\n",
       "  </tbody>\n",
       "</table>\n",
       "</div>"
      ],
      "text/plain": [
       "           Hours    Scores\n",
       "Hours   1.000000  0.976191\n",
       "Scores  0.976191  1.000000"
      ]
     },
     "execution_count": 9,
     "metadata": {},
     "output_type": "execute_result"
    }
   ],
   "source": [
    "# To find the value of correlation\n",
    "# By default, corr() follows the Pearson correlation method\n",
    "student_data.corr()"
   ]
  },
  {
   "cell_type": "markdown",
   "id": "fbb43f14",
   "metadata": {},
   "source": [
    "The 2 variables, Hours and Scores, are in high positive correlation as the correlation value is 0.976191 (0.5 < 0.976191 < 1.0)."
   ]
  },
  {
   "cell_type": "markdown",
   "id": "8a1df87d",
   "metadata": {},
   "source": [
    "### 3. Training the Model - Using Linear Regression"
   ]
  },
  {
   "cell_type": "raw",
   "id": "0ada0446",
   "metadata": {},
   "source": [
    "Splitting the Data"
   ]
  },
  {
   "cell_type": "code",
   "execution_count": 10,
   "id": "961c3f07",
   "metadata": {},
   "outputs": [],
   "source": [
    "from sklearn.model_selection import train_test_split\n",
    "from sklearn.linear_model import LinearRegression\n",
    "from sklearn import metrics"
   ]
  },
  {
   "cell_type": "markdown",
   "id": "75adf0f1",
   "metadata": {},
   "source": [
    "As this is a linear regression problem and we have to predict the score, we take Hours to be the Feature Variable and Score to be the Target Class Label."
   ]
  },
  {
   "cell_type": "code",
   "execution_count": 11,
   "id": "ae7cc899",
   "metadata": {},
   "outputs": [],
   "source": [
    "# Defining X and y from the Data\n",
    "X = student_data.iloc[:, :-1].values  # All rows, except last column\n",
    "y = student_data.iloc[:, 1].values # All rows, with last column\n",
    "\n",
    "# Spliting the Data in two\n",
    "train_X, test_X, train_y, test_y = train_test_split(X, y, test_size=0.20, random_state=0)"
   ]
  },
  {
   "cell_type": "raw",
   "id": "8d939607",
   "metadata": {},
   "source": [
    "Fitting the Data into the Linear Regression Model"
   ]
  },
  {
   "cell_type": "code",
   "execution_count": 12,
   "id": "c7b54890",
   "metadata": {},
   "outputs": [
    {
     "name": "stdout",
     "output_type": "stream",
     "text": [
      "Model Trained\n"
     ]
    }
   ],
   "source": [
    "linreg = LinearRegression()\n",
    "linreg.fit(train_X, train_y)\n",
    "print(\"Model Trained\")"
   ]
  },
  {
   "cell_type": "markdown",
   "id": "5168c7cb",
   "metadata": {},
   "source": [
    "### 4. Testing the Model - Predicting the Score Percentage"
   ]
  },
  {
   "cell_type": "code",
   "execution_count": 13,
   "id": "fd102fd5",
   "metadata": {},
   "outputs": [
    {
     "data": {
      "text/html": [
       "<div>\n",
       "<style scoped>\n",
       "    .dataframe tbody tr th:only-of-type {\n",
       "        vertical-align: middle;\n",
       "    }\n",
       "\n",
       "    .dataframe tbody tr th {\n",
       "        vertical-align: top;\n",
       "    }\n",
       "\n",
       "    .dataframe thead th {\n",
       "        text-align: right;\n",
       "    }\n",
       "</style>\n",
       "<table border=\"1\" class=\"dataframe\">\n",
       "  <thead>\n",
       "    <tr style=\"text-align: right;\">\n",
       "      <th></th>\n",
       "      <th>Hours</th>\n",
       "      <th>Predicted Score</th>\n",
       "    </tr>\n",
       "  </thead>\n",
       "  <tbody>\n",
       "    <tr>\n",
       "      <th>0</th>\n",
       "      <td>1.5</td>\n",
       "      <td>16.884145</td>\n",
       "    </tr>\n",
       "    <tr>\n",
       "      <th>1</th>\n",
       "      <td>3.2</td>\n",
       "      <td>33.732261</td>\n",
       "    </tr>\n",
       "    <tr>\n",
       "      <th>2</th>\n",
       "      <td>7.4</td>\n",
       "      <td>75.357018</td>\n",
       "    </tr>\n",
       "    <tr>\n",
       "      <th>3</th>\n",
       "      <td>2.5</td>\n",
       "      <td>26.794801</td>\n",
       "    </tr>\n",
       "    <tr>\n",
       "      <th>4</th>\n",
       "      <td>5.9</td>\n",
       "      <td>60.491033</td>\n",
       "    </tr>\n",
       "  </tbody>\n",
       "</table>\n",
       "</div>"
      ],
      "text/plain": [
       "   Hours  Predicted Score\n",
       "0    1.5        16.884145\n",
       "1    3.2        33.732261\n",
       "2    7.4        75.357018\n",
       "3    2.5        26.794801\n",
       "4    5.9        60.491033"
      ]
     },
     "execution_count": 13,
     "metadata": {},
     "output_type": "execute_result"
    }
   ],
   "source": [
    "predicted_y = linreg.predict(test_X)\n",
    "prediction = pd.DataFrame({'Hours': [i[0] for i in test_X], 'Predicted Score': [k for k in predicted_y]})\n",
    "prediction"
   ]
  },
  {
   "cell_type": "markdown",
   "id": "edd504e6",
   "metadata": {},
   "source": [
    "### 5. Comparing Predicted Scores with the Actual Scores"
   ]
  },
  {
   "cell_type": "code",
   "execution_count": 14,
   "id": "88298ffe",
   "metadata": {},
   "outputs": [
    {
     "data": {
      "text/html": [
       "<div>\n",
       "<style scoped>\n",
       "    .dataframe tbody tr th:only-of-type {\n",
       "        vertical-align: middle;\n",
       "    }\n",
       "\n",
       "    .dataframe tbody tr th {\n",
       "        vertical-align: top;\n",
       "    }\n",
       "\n",
       "    .dataframe thead th {\n",
       "        text-align: right;\n",
       "    }\n",
       "</style>\n",
       "<table border=\"1\" class=\"dataframe\">\n",
       "  <thead>\n",
       "    <tr style=\"text-align: right;\">\n",
       "      <th></th>\n",
       "      <th>Actual Score</th>\n",
       "      <th>Predicted Score</th>\n",
       "    </tr>\n",
       "  </thead>\n",
       "  <tbody>\n",
       "    <tr>\n",
       "      <th>0</th>\n",
       "      <td>20</td>\n",
       "      <td>16.884145</td>\n",
       "    </tr>\n",
       "    <tr>\n",
       "      <th>1</th>\n",
       "      <td>27</td>\n",
       "      <td>33.732261</td>\n",
       "    </tr>\n",
       "    <tr>\n",
       "      <th>2</th>\n",
       "      <td>69</td>\n",
       "      <td>75.357018</td>\n",
       "    </tr>\n",
       "    <tr>\n",
       "      <th>3</th>\n",
       "      <td>30</td>\n",
       "      <td>26.794801</td>\n",
       "    </tr>\n",
       "    <tr>\n",
       "      <th>4</th>\n",
       "      <td>62</td>\n",
       "      <td>60.491033</td>\n",
       "    </tr>\n",
       "  </tbody>\n",
       "</table>\n",
       "</div>"
      ],
      "text/plain": [
       "   Actual Score  Predicted Score\n",
       "0            20        16.884145\n",
       "1            27        33.732261\n",
       "2            69        75.357018\n",
       "3            30        26.794801\n",
       "4            62        60.491033"
      ]
     },
     "execution_count": 14,
     "metadata": {},
     "output_type": "execute_result"
    }
   ],
   "source": [
    "compare = pd.DataFrame({'Actual Score': test_y, 'Predicted Score': predicted_y})\n",
    "compare"
   ]
  },
  {
   "cell_type": "raw",
   "id": "cc91a3d8",
   "metadata": {},
   "source": [
    "Visual Comparisons"
   ]
  },
  {
   "cell_type": "code",
   "execution_count": 15,
   "id": "2a92c5a8",
   "metadata": {},
   "outputs": [
    {
     "data": {
      "image/png": "[encoded data removed]",
      "text/plain": [
       "<Figure size 432x288 with 1 Axes>"
      ]
     },
     "metadata": {},
     "output_type": "display_data"
    }
   ],
   "source": [
    "plt.scatter(x=test_X, y=test_y, color='#ff9f1c', label='Predicted Score') # Scatterplot\n",
    "plt.plot(test_X, predicted_y, color='#1a4301', label='Actual Score') # Line of Best Fit\n",
    "plt.title('Scatterplot for Comparison', pad='10.0', size=18)\n",
    "plt.ylabel('Score Percentage', size=12)\n",
    "plt.xlabel('No. of Hours Studied', size=12)\n",
    "plt.legend(bbox_to_anchor =(1.15, 1.02), ncol = 2)\n",
    "plt.show()"
   ]
  },
  {
   "cell_type": "code",
   "execution_count": 16,
   "id": "54e369fd",
   "metadata": {},
   "outputs": [
    {
     "data": {
      "image/png": "[encoded data removed]",
      "text/plain": [
       "<Figure size 504x504 with 1 Axes>"
      ]
     },
     "metadata": {},
     "output_type": "display_data"
    }
   ],
   "source": [
    "compare.plot(kind='line',figsize=(7,7), color=['#1a4301','#ff9f1c'])\n",
    "plt.legend(bbox_to_anchor =(1.70, 1.02), ncol = 2)\n",
    "plt.show()"
   ]
  },
  {
   "cell_type": "markdown",
   "id": "7663870f",
   "metadata": {},
   "source": [
    "### 6. Evaluate the Model Using Metrics"
   ]
  },
  {
   "cell_type": "code",
   "execution_count": 17,
   "id": "42245edb",
   "metadata": {},
   "outputs": [
    {
     "name": "stdout",
     "output_type": "stream",
     "text": [
      "Mean Absolute Error:  4.183859899002975\n"
     ]
    }
   ],
   "source": [
    "#MAE\n",
    "print(\"Mean Absolute Error: \",metrics.mean_absolute_error(test_y, predicted_y))"
   ]
  },
  {
   "cell_type": "code",
   "execution_count": 18,
   "id": "798f48f6",
   "metadata": {},
   "outputs": [
    {
     "name": "stdout",
     "output_type": "stream",
     "text": [
      "R2 score = 0.95\n"
     ]
    }
   ],
   "source": [
    "print(\"R2 score =\", round(metrics.r2_score(test_y, predicted_y), 2))"
   ]
  },
  {
   "cell_type": "markdown",
   "id": "2a1c7e75",
   "metadata": {},
   "source": [
    "## NOTES:\n",
    "\n",
    "    The MAE value of this model is 4.183, which is fairly less. This implies that the chances of getting an error is fairly low.\n",
    "    The R2 score is 0.95 which is really good!"
   ]
  },
  {
   "cell_type": "markdown",
   "id": "09f2a72c",
   "metadata": {},
   "source": [
    "### 7. Predicted score if a student studies for 9.25 hrs/ day - The Task"
   ]
  },
  {
   "cell_type": "code",
   "execution_count": 19,
   "id": "22e60e1d",
   "metadata": {},
   "outputs": [
    {
     "name": "stdout",
     "output_type": "stream",
     "text": [
      "Predicted Score= 93.69\n"
     ]
    }
   ],
   "source": [
    "hours_studied = [9.25]\n",
    "predicted_score = linreg.predict([hours_studied])\n",
    "print(\"Predicted Score= {}\".format(round(predicted_score[0],2)))"
   ]
  },
  {
   "cell_type": "markdown",
   "id": "11bd27bb",
   "metadata": {},
   "source": [
    "Therefore, the predicted score, if a student studies for 9.25 hours/day is 93.69."
   ]
  },
  {
   "cell_type": "markdown",
   "id": "5d783d3a",
   "metadata": {},
   "source": [
    "# ~Thank you~"
   ]
  }
 ],
 "metadata": {
  "kernelspec": {
   "display_name": "Python 3",
   "language": "python",
   "name": "python3"
  },
  "language_info": {
   "codemirror_mode": {
    "name": "ipython",
    "version": 3
   },
   "file_extension": ".py",
   "mimetype": "text/x-python",
   "name": "python",
   "nbconvert_exporter": "python",
   "pygments_lexer": "ipython3",
   "version": "3.8.8"
  }
 },
 "nbformat": 4,
 "nbformat_minor": 5
}
